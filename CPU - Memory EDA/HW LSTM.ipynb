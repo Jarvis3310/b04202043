{
 "cells": [
  {
   "cell_type": "code",
   "execution_count": 16,
   "metadata": {
    "collapsed": false
   },
   "outputs": [
    {
     "name": "stderr",
     "output_type": "stream",
     "text": [
      "/home/eason/anaconda3/lib/python3.5/site-packages/matplotlib/__init__.py:1350: UserWarning:  This call to matplotlib.use() has no effect\n",
      "because the backend has already been chosen;\n",
      "matplotlib.use() must be called *before* pylab, matplotlib.pyplot,\n",
      "or matplotlib.backends is imported for the first time.\n",
      "\n",
      "  warnings.warn(_use_error_msg)\n"
     ]
    }
   ],
   "source": [
    "import pandas as pd\n",
    "import numpy as np\n",
    "from datetime import datetime\n",
    "\n",
    "import matplotlib\n",
    "matplotlib.use('Agg')\n",
    "%matplotlib inline\n",
    "\n",
    "import matplotlib.pyplot as plt\n",
    "\n",
    "import torch\n",
    "import torch.nn as nn \n",
    "from torch.autograd import Variable\n",
    "import torch.optim as optim\n",
    "\n",
    "from sklearn.preprocessing import MinMaxScaler\n",
    "from sklearn.preprocessing import LabelEncoder\n",
    "from sklearn.metrics import mean_squared_error\n",
    "\n"
   ]
  },
  {
   "cell_type": "code",
   "execution_count": 18,
   "metadata": {
    "collapsed": false
   },
   "outputs": [
    {
     "name": "stdout",
     "output_type": "stream",
     "text": [
      "   var1(t-1)  var2(t-1)  var3(t-1)  var4(t-1)  var5(t-1)  var6(t-1)  \\\n",
      "1       -1.0       -1.0        2.0        0.0        1.0       -2.0   \n",
      "2       -1.0       -1.0        0.0        0.0        1.0        0.0   \n",
      "3       -1.0       -2.0        0.0        0.0        1.0       -2.0   \n",
      "4       -2.0       -2.0        0.0        0.0        1.0        0.0   \n",
      "5       -2.0       -2.0        0.0        0.0        1.0        0.0   \n",
      "\n",
      "   var7(t-1)  var1(t)  \n",
      "1       -1.0     -1.0  \n",
      "2        0.0     -1.0  \n",
      "3        0.0     -2.0  \n",
      "4        0.0     -2.0  \n",
      "5        0.0      0.0  \n"
     ]
    },
    {
     "data": {
      "text/plain": [
       "' \\n\\ndata = series_to_supervised(values)\\nprint(data)\\nprint(values[:,4])\\n'"
      ]
     },
     "execution_count": 18,
     "metadata": {},
     "output_type": "execute_result"
    }
   ],
   "source": [
    "from pandas import DataFrame\n",
    "from pandas import concat\n",
    "from pandas import read_csv\n",
    "\n",
    "from sklearn.preprocessing import MinMaxScaler\n",
    "from sklearn.preprocessing import LabelEncoder\n",
    "from sklearn.metrics import mean_squared_error\n",
    "#df = DataFrame()\n",
    "#df['t'] = [x for x in range(10)]\n",
    "#df['y']=df['t'].shift(-1)\n",
    "#print(df)\n",
    "pathProg = 'C:\\\\Users\\\\林亦盛\\\\Downloads\\\\UtilizationDataLog'\n",
    "\n",
    "def series_to_supervised(data, n_in=1, n_out=1, dropnan=True):\n",
    "\t\"\"\"\n",
    "\tFrame a time series as a supervised learning dataset.\n",
    "\tArguments:\n",
    "\t\tdata: Sequence of observations as a list or NumPy array.\n",
    "\t\tn_in: Number of lag observations as input (X).\n",
    "\t\tn_out: Number of observations as output (y).\n",
    "\t\tdropnan: Boolean whether or not to drop rows with NaN values.\n",
    "\tReturns:\n",
    "\t\tPandas DataFrame of series framed for supervised learning.\n",
    "\t\"\"\"\n",
    "\tn_vars = 1 if type(data) is list else data.shape[1]\n",
    "\tdf = DataFrame(data)\n",
    "\tcols, names = list(), list()\n",
    "\t# input sequence (t-n, ... t-1)\n",
    "\tfor i in range(n_in, 0, -1):\n",
    "\t\tcols.append(df.shift(i))\n",
    "\t\tnames += [('var%d(t-%d)' % (j+1, i)) for j in range(n_vars)]\n",
    "\t# forecast sequence (t, t+1, ... t+n)\n",
    "\tfor i in range(0, n_out):\n",
    "\t\tcols.append(df.shift(-i))\n",
    "\t\tif i == 0:\n",
    "\t\t\tnames += [('var%d(t)' % (j+1)) for j in range(n_vars)]\n",
    "\t\telse:\n",
    "\t\t\tnames += [('var%d(t+%d)' % (j+1, i)) for j in range(n_vars)]\n",
    "\t# put it all together\n",
    "\tagg = concat(cols, axis=1)\n",
    "\tagg.columns = names\n",
    "\t# drop rows with NaN values\n",
    "\tif dropnan:\n",
    "\t\tagg.dropna(inplace=True)\n",
    "\treturn agg\n",
    "\n",
    "# load dataset\n",
    "dataset = read_csv('datanew300.csv',header=0)\n",
    "values = dataset.values\n",
    "\n",
    "# integer encode direction\n",
    "encoder = LabelEncoder()\n",
    "values[:,4] = encoder.fit_transform(values[:,4])\n",
    "# ensure all data is float\n",
    "values = values.astype('float32')\n",
    "# normalize features\n",
    "#scaler = MinMaxScaler(feature_range=(0, 1))\n",
    "#scaled = scaler.fit_transform(values)\n",
    "# frame as supervised learning\n",
    "reframed = series_to_supervised(values, 1, 1)\n",
    "# drop columns we don't want to predict\n",
    "reframed.drop(reframed.columns[[8,9,10,11,12,13]], axis=1, inplace=True)\n",
    "print(reframed.head()) \n",
    "''' \n",
    "\n",
    "data = series_to_supervised(values)\n",
    "print(data)\n",
    "print(values[:,4])\n",
    "'''"
   ]
  },
  {
   "cell_type": "code",
   "execution_count": 19,
   "metadata": {
    "collapsed": false
   },
   "outputs": [
    {
     "name": "stdout",
     "output_type": "stream",
     "text": [
      "156\n",
      "torch.Size([366, 7]) torch.Size([366, 7]) torch.Size([156, 7]) torch.Size([156, 7])\n"
     ]
    }
   ],
   "source": [
    "import math\n",
    "import numpy as np\n",
    "import torch\n",
    "data = reframed.values\n",
    "\n",
    "n_split = int(0.3 * len(data))\n",
    "print(n_split)\n",
    "\n",
    "train_X = Variable(torch.from_numpy(data[n_split:, :-1]), requires_grad=False)\n",
    "train_y = Variable(torch.from_numpy(data[n_split:, 1:]), requires_grad=False)\n",
    "test_X = Variable(torch.from_numpy(data[:n_split, :-1]), requires_grad=False)\n",
    "test_y = Variable(torch.from_numpy(data[:n_split, 1:]), requires_grad=False)\n",
    "\n",
    "print(train_X.size(), train_y.size(), test_X.size(), test_y.size())"
   ]
  },
  {
   "cell_type": "code",
   "execution_count": 20,
   "metadata": {
    "collapsed": false
   },
   "outputs": [],
   "source": [
    "class Sequence(nn.Module):\n",
    "    def __init__(self):\n",
    "        super(Sequence, self).__init__()\n",
    "        self.lstm1 = nn.LSTMCell(1, 51)\n",
    "        self.lstm2 = nn.LSTMCell(51, 1)\n",
    "\n",
    "    def forward(self, input, future=0):\n",
    "        outputs = []\n",
    "        h_t = Variable(\n",
    "            torch.zeros(input.size(0), 51), requires_grad=False)\n",
    "        c_t = Variable(\n",
    "            torch.zeros(input.size(0), 51), requires_grad=False)\n",
    "        h_t2 = Variable(\n",
    "            torch.zeros(input.size(0), 1), requires_grad=False)\n",
    "        c_t2 = Variable(\n",
    "            torch.zeros(input.size(0), 1), requires_grad=False)\n",
    "\n",
    "        for i, input_t in enumerate(input.chunk(input.size(1), dim=1)):\n",
    "            h_t, c_t = self.lstm1(input_t, (h_t, c_t))\n",
    "            h_t2, c_t2 = self.lstm2(c_t, (h_t2, c_t2))\n",
    "            outputs += [c_t2]\n",
    "\n",
    "        for i in range(future):  # if we should predict the future\n",
    "            h_t, c_t = self.lstm1(c_t2, (h_t, c_t))\n",
    "            h_t2, c_t2 = self.lstm2(c_t, (h_t2, c_t2))\n",
    "            outputs += [c_t2]\n",
    "\n",
    "        outputs = torch.stack(outputs, 1).squeeze(2)\n",
    "        return outputs"
   ]
  },
  {
   "cell_type": "code",
   "execution_count": 25,
   "metadata": {
    "collapsed": false
   },
   "outputs": [
    {
     "name": "stdout",
     "output_type": "stream",
     "text": [
      "epoch :  0\n",
      "epoch :  1\n",
      "epoch :  2\n",
      "epoch :  3\n",
      "epoch :  4\n",
      "epoch :  5\n",
      "epoch :  6\n",
      "epoch :  7\n",
      "epoch :  8\n",
      "epoch :  9\n",
      "epoch :  10\n",
      "epoch :  11\n",
      "epoch :  12\n",
      "epoch :  13\n",
      "epoch :  14\n",
      "epoch :  15\n",
      "epoch :  16\n",
      "epoch :  17\n",
      "epoch :  18\n",
      "epoch :  19\n",
      "epoch :  20\n",
      "epoch :  21\n",
      "epoch :  22\n",
      "epoch :  23\n",
      "epoch :  24\n",
      "epoch :  25\n",
      "epoch :  26\n",
      "epoch :  27\n",
      "epoch :  28\n",
      "epoch :  29\n",
      "epoch :  30\n",
      "epoch :  31\n",
      "epoch :  32\n",
      "epoch :  33\n",
      "epoch :  34\n",
      "epoch :  35\n",
      "epoch :  36\n",
      "epoch :  37\n",
      "epoch :  38\n",
      "epoch :  39\n",
      "epoch :  40\n",
      "epoch :  41\n",
      "epoch :  42\n",
      "epoch :  43\n",
      "epoch :  44\n",
      "epoch :  45\n",
      "epoch :  46\n",
      "epoch :  47\n",
      "epoch :  48\n",
      "epoch :  49\n",
      "epoch :  50\n",
      "epoch :  51\n",
      "epoch :  52\n",
      "epoch :  53\n",
      "epoch :  54\n",
      "epoch :  55\n",
      "epoch :  56\n",
      "epoch :  57\n",
      "epoch :  58\n",
      "epoch :  59\n",
      "epoch :  60\n",
      "epoch :  61\n",
      "epoch :  62\n",
      "epoch :  63\n",
      "epoch :  64\n",
      "epoch :  65\n",
      "epoch :  66\n",
      "epoch :  67\n",
      "epoch :  68\n",
      "epoch :  69\n",
      "epoch :  70\n",
      "epoch :  71\n",
      "epoch :  72\n",
      "epoch :  73\n",
      "epoch :  74\n",
      "epoch :  75\n",
      "epoch :  76\n",
      "epoch :  77\n",
      "epoch :  78\n",
      "epoch :  79\n",
      "epoch :  80\n",
      "epoch :  81\n",
      "epoch :  82\n",
      "epoch :  83\n",
      "epoch :  84\n",
      "epoch :  85\n",
      "epoch :  86\n",
      "epoch :  87\n",
      "epoch :  88\n",
      "epoch :  89\n",
      "epoch :  90\n",
      "epoch :  91\n",
      "epoch :  92\n",
      "epoch :  93\n",
      "epoch :  94\n",
      "epoch :  95\n",
      "epoch :  96\n",
      "epoch :  97\n",
      "epoch :  98\n",
      "epoch :  99\n"
     ]
    }
   ],
   "source": [
    "# build the model\n",
    "seq = Sequence()\n",
    "# seq.double()\n",
    "criterion = nn.MSELoss()\n",
    "\n",
    "# use LBFGS as optimizer since we can load the whole data to train\n",
    "optimizer = optim.Adam(seq.parameters())\n",
    "\n",
    "loss_list = []\n",
    "test_loss_list = []\n",
    "\n",
    "epoch_num = 100\n",
    "\n",
    "# begin to train\n",
    "for epoch in range(epoch_num):\n",
    "    print('epoch : ', epoch)\n",
    "\n",
    "    def closure():\n",
    "        optimizer.zero_grad()\n",
    "        out = seq(train_X)\n",
    "        loss = criterion(out, train_y)\n",
    "#         print('loss:', loss.data.numpy()[0])\n",
    "        loss_list.append(loss.data.numpy()[0])\n",
    "        loss.backward()\n",
    "        return loss\n",
    "\n",
    "    optimizer.step(closure)\n",
    "\n",
    "#   # begin to predict\n",
    "#     future = 1000\n",
    "#     pred = seq(test_X, future=future)\n",
    "    pred = seq(test_X)\n",
    "    loss = criterion(pred, test_y)\n",
    "#     print('test loss:', loss.data.numpy()[0])\n",
    "    test_loss_list.append(loss.data.numpy()[0])\n",
    "\n",
    "    y = pred.data.numpy()"
   ]
  },
  {
   "cell_type": "code",
   "execution_count": 26,
   "metadata": {
    "collapsed": false
   },
   "outputs": [
    {
     "data": {
      "image/png": "[encoded data removed]",
      "text/plain": [
       "<matplotlib.figure.Figure at 0x7f837158f438>"
      ]
     },
     "metadata": {},
     "output_type": "display_data"
    }
   ],
   "source": [
    "plt.figure(figsize=(10,6))\n",
    "plt.plot(range(epoch_num), loss_list, label='train loss')\n",
    "plt.plot(range(epoch_num), test_loss_list, label='test loss')\n",
    "plt.legend()\n",
    "plt.savefig('100 split300 new.png', dpi=200)\n",
    "\n"
   ]
  },
  {
   "cell_type": "code",
   "execution_count": null,
   "metadata": {
    "collapsed": true
   },
   "outputs": [],
   "source": []
  }
 ],
 "metadata": {
  "anaconda-cloud": {},
  "kernelspec": {
   "display_name": "Python [conda root]",
   "language": "python",
   "name": "conda-root-py"
  },
  "language_info": {
   "codemirror_mode": {
    "name": "ipython",
    "version": 3
   },
   "file_extension": ".py",
   "mimetype": "text/x-python",
   "name": "python",
   "nbconvert_exporter": "python",
   "pygments_lexer": "ipython3",
   "version": "3.5.2"
  }
 },
 "nbformat": 4,
 "nbformat_minor": 1
}
