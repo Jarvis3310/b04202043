{
 "cells": [
  {
   "cell_type": "code",
   "execution_count": null,
   "metadata": {
    "collapsed": false
   },
   "outputs": [],
   "source": [
    "#After recieving the npy file of the video, use Yolo and opencv to identify the objects and draw frames.\n ",
    "import json\n",
    "import os\n",
    "import cv2\n",
    "import matplotlib.pyplot as plt\n",
    "from darkflow.net.build import TFNet\n",
    "import numpy as np\n",
    "\n",
    "options = {\"model\": \"cfg/yolo.cfg\",\n",
    "           \"load\": \"bin/yolo.weights\",\n",
    "           \"threshold\": 0.3}\n",
    "tfnet = TFNet(options)\n",
    "\n",
    "def img_recog(img, tfnet):\n",
    "    preds = tfnet.return_predict(img)\n",
    "    font = cv2.FONT_HERSHEY_DUPLEX\n",
    "    thickness = 2\n",
    "    for pred in preds:\n",
    "        x_tl = pred['topleft']['x']\n",
    "        y_tl = pred['topleft']['y']\n",
    "        x_br = pred['bottomright']['x']\n",
    "        y_br = pred['bottomright']['y']\n",
    "        label = pred['label']\n",
    "        w_text, h_text = cv2.getTextSize(label, font, 0.5, thickness=thickness)[0]\n",
    "\n",
    "        cv2.rectangle(img, (x_tl, y_tl), (x_br, y_br), (0, 0, 255), 2)\n",
    "        cv2.rectangle(img, (x_tl, int(y_tl-(h_text/2+1))), (x_tl+w_text+1, y_tl), (0, 0, 255), 7)\n",
    "        cv2.putText(img, label, (x_tl, y_tl), font, 0.5, (255, 0, 0), thickness=thickness)\n",
    "    return preds, img\n",
    "\n",
    "file_name = 'west_video.npy'\n",
    "test_video = np.load(file_name)\n",
    "test_video_new = list()\n",
    "#plt.ion()\n",
    "for i in range(len(test_video)-50):\n",
    "    img = test_video[i]\n",
    "    preds, img = img_recog(img, tfnet)\n",
    "    test_video_new.append(img)\n",
    "    if (i+1)%20 == 0:\n",
    "        print('('+str((i+1))+'/'+str(len(test_video))+') Processing...')\n",
    "    #plt.imshow(img)\n",
    "    #plt.pause(0.01)\n",
    "print('Done.')\n",
    "np.save('./'+file_name+'_new1', test_video_new)"
   ]
  },
  {
   "cell_type": "code",
   "execution_count": null,
   "metadata": {
    "collapsed": false
   },
   "outputs": [
    {
     "name": "stdout",
     "output_type": "stream",
     "text": [
      "[[[ 5  2  0]\n",
      "  [ 1  0  0]\n",
      "  [ 9  1  0]\n",
      "  ..., \n",
      "  [10  1  0]\n",
      "  [ 3  4  0]\n",
      "  [ 0  0  0]]\n",
      "\n",
      " [[ 5  2  0]\n",
      "  [ 1  0  0]\n",
      "  [ 9  1  0]\n",
      "  ..., \n",
      "  [11  2  0]\n",
      "  [ 2  3  0]\n",
      "  [ 0  1  0]]\n",
      "\n",
      " [[ 5  2  0]\n",
      "  [ 1  0  0]\n",
      "  [ 9  1  0]\n",
      "  ..., \n",
      "  [13  4  1]\n",
      "  [ 0  1  0]\n",
      "  [ 2  3  0]]\n",
      "\n",
      " ..., \n",
      " [[ 4  1  0]\n",
      "  [ 3  0  0]\n",
      "  [ 4  1  0]\n",
      "  ..., \n",
      "  [ 8  0  3]\n",
      "  [ 0  0  4]\n",
      "  [ 0  0  4]]\n",
      "\n",
      " [[ 4  1  0]\n",
      "  [ 4  1  0]\n",
      "  [ 5  2  1]\n",
      "  ..., \n",
      "  [ 4  0  6]\n",
      "  [ 0  0  7]\n",
      "  [ 0  0  7]]\n",
      "\n",
      " [[ 4  1  0]\n",
      "  [ 4  1  0]\n",
      "  [ 5  2  1]\n",
      "  ..., \n",
      "  [ 4  0  6]\n",
      "  [ 0  0  7]\n",
      "  [ 0  0  7]]]\n"
     ]
    }
   ],
   "source": [
    "import numpy as np\n",
    "import cv2\n",
    "test_video_new = np.load('west_video.npy_new.npy')\n",
    "print(test_video_new[0])\n",
    "#test_video_new.shape\n",
    "#fourcc = cv2.VideoWriter_fourcc(*'XVID')\n",
    "#out = cv2.VideoWriter('west_new.avi',fourcc, 10.0, (720,1280))\n",
    "#for i in range(len(test_video_new)):\n",
    "#    frame = test_video_new[i]\n",
    "#    out.write(frame)\n",
    "#out.release()"
   ]
  },
  {
   "cell_type": "code",
   "execution_count": null,
   "metadata": {
    "collapsed": true
   },
   "outputs": [],
   "source": []
  }
 ],
 "metadata": {
  "anaconda-cloud": {},
  "kernelspec": {
   "display_name": "Python [conda root]",
   "language": "python",
   "name": "conda-root-py"
  },
  "language_info": {
   "codemirror_mode": {
    "name": "ipython",
    "version": 3
   },
   "file_extension": ".py",
   "mimetype": "text/x-python",
   "name": "python",
   "nbconvert_exporter": "python",
   "pygments_lexer": "ipython3",
   "version": "3.5.2"
  }
 },
 "nbformat": 4,
 "nbformat_minor": 1
}
